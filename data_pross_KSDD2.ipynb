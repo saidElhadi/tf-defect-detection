{
 "cells": [
  {
   "cell_type": "code",
   "execution_count": null,
   "metadata": {},
   "outputs": [],
   "source": [
    "import cv2\n",
    "import os\n",
    "import numpy as np\n",
    "\n",
    "def load_dataset(train_dataset_dir = 'dataset/KolektorSDD2/train',  \n",
    "                 test_dataset_dir = 'dataset/KolektorSDD2/test'):\n",
    "    # Set the path to the dataset directory\n",
    "    # Initialize empty arrays for storing the images and masks\n",
    "    images = []\n",
    "    masks = []\n",
    "    test_images = []\n",
    "    test_masks = []\n",
    "    # Loop over the files in the dataset directory\n",
    "    for filename in os.listdir(train_dataset_dir):\n",
    "        if filename.endswith('GT.png'): # Check if the file is an image\n",
    "            mask_path = os.path.join(train_dataset_dir, filename)\n",
    "            image_path = os.path.join(train_dataset_dir, filename[:-7]+'.png') # Assumes that the mask file is named \"mask_<image_filename>.jpg\"\n",
    "\n",
    "            # Load the image and mask using OpenCV\n",
    "            image = cv2.imread(image_path)\n",
    "            mask = cv2.imread(mask_path)\n",
    "\n",
    "            # Convert the mask to a binary image\n",
    "            mask = cv2.cvtColor(mask, cv2.COLOR_BGR2GRAY)\n",
    "            mask = np.where(mask > 0, 1, 0)\n",
    "\n",
    "            # Append the image and mask to the arrays\n",
    "            images.append(image)\n",
    "            masks.append(mask)\n",
    "\n",
    "    # Loop over the files in the dataset directory\n",
    "    for filename in os.listdir(test_dataset_dir):\n",
    "        if filename.endswith('GT.png'): # Check if the file is an image\n",
    "            mask_path = os.path.join(test_dataset_dir, filename)\n",
    "            image_path = os.path.join(test_dataset_dir, filename[:-7]+'.png') # Assumes that the mask file is named \"mask_<image_filename>.jpg\"\n",
    "\n",
    "            # Load the image and mask using OpenCV\n",
    "            image = cv2.imread(image_path)\n",
    "            mask = cv2.imread(mask_path)\n",
    "\n",
    "            # Convert the mask to a binary image\n",
    "            mask = cv2.cvtColor(mask, cv2.COLOR_BGR2GRAY)\n",
    "            mask = np.where(mask > 0, 1, 0)\n",
    "\n",
    "            # Append the image and mask to the arrays\n",
    "            test_images.append(image)\n",
    "            test_masks.append(mask)\n",
    "\n",
    "\n",
    "    return zip(images, masks), zip(test_images, test_masks) "
   ]
  },
  {
   "cell_type": "code",
   "execution_count": null,
   "metadata": {},
   "outputs": [],
   "source": [
    "temp, test_temp = load_dataset()"
   ]
  },
  {
   "cell_type": "code",
   "execution_count": null,
   "metadata": {},
   "outputs": [],
   "source": [
    "for i, x in temp:\n",
    "    print(x[:3])\n",
    "    break"
   ]
  },
  {
   "cell_type": "code",
   "execution_count": 15,
   "metadata": {},
   "outputs": [],
   "source": [
    "import os\n",
    "\n",
    "def check_large_masks(directory):\n",
    "    large_masks = []\n",
    "    \n",
    "    for filename in os.listdir(directory):\n",
    "        if filename.endswith('_GT.png'): # Check if the file is a mask\n",
    "            mask_path = os.path.join(directory, filename)\n",
    "            mask_size = os.path.getsize(mask_path)\n",
    "            \n",
    "            if mask_size > 250:\n",
    "                mask_id = filename[:-7]  # Extract the ID from the mask filename\n",
    "                large_masks.append(mask_id)\n",
    "    \n",
    "    return large_masks\n",
    "\n",
    "deformed = check_large_masks('dataset/KolektorSDD2/train')\n",
    "deformed_ = check_large_masks('dataset/KolektorSDD2/test')\n"
   ]
  },
  {
   "cell_type": "code",
   "execution_count": 8,
   "metadata": {},
   "outputs": [],
   "source": [
    "import os\n",
    "import shutil\n",
    "\n",
    "def copy_files(file_names, source_directory, destination_directory, extention = \".png\"):\n",
    "    for filename in file_names:\n",
    "        filename = filename + extention\n",
    "        source_path = os.path.join(source_directory, filename)\n",
    "        destination_path = os.path.join(destination_directory, filename)\n",
    "        \n",
    "        shutil.copyfile(source_path, destination_path)"
   ]
  },
  {
   "cell_type": "code",
   "execution_count": 16,
   "metadata": {},
   "outputs": [],
   "source": [
    "copy_files(deformed, 'dataset/KolektorSDD2/train', 'dataset/KolektorSDD2/deformed')\n",
    "copy_files(deformed_, 'dataset/KolektorSDD2/test', 'dataset/KolektorSDD2/deformed')"
   ]
  },
  {
   "cell_type": "code",
   "execution_count": 11,
   "metadata": {},
   "outputs": [],
   "source": [
    "import os\n",
    "\n",
    "def check_small_masks(directory):\n",
    "    small_masks = []\n",
    "    \n",
    "    for filename in os.listdir(directory):\n",
    "        if filename.endswith('_GT.png'): # Check if the file is a mask\n",
    "            mask_path = os.path.join(directory, filename)\n",
    "            mask_size = os.path.getsize(mask_path)\n",
    "            \n",
    "            if mask_size < 250:\n",
    "                mask_id = filename[:-7]  # Extract the ID from the mask filename\n",
    "                small_masks.append(mask_id)\n",
    "    \n",
    "    return small_masks\n",
    "\n",
    "normal = check_small_masks('dataset/KolektorSDD2/train')\n",
    "normal_ = check_small_masks('dataset/KolektorSDD2/test')"
   ]
  },
  {
   "cell_type": "code",
   "execution_count": 12,
   "metadata": {},
   "outputs": [
    {
     "ename": "FileNotFoundError",
     "evalue": "[Errno 2] No such file or directory: 'dataset/KolektorSDD2/train/20000.png'",
     "output_type": "error",
     "traceback": [
      "\u001b[0;31m---------------------------------------------------------------------------\u001b[0m",
      "\u001b[0;31mFileNotFoundError\u001b[0m                         Traceback (most recent call last)",
      "Cell \u001b[0;32mIn[12], line 2\u001b[0m\n\u001b[1;32m      1\u001b[0m copy_files(normal, \u001b[39m'\u001b[39m\u001b[39mdataset/KolektorSDD2/train\u001b[39m\u001b[39m'\u001b[39m, \u001b[39m'\u001b[39m\u001b[39mdataset/KolektorSDD2/normal\u001b[39m\u001b[39m'\u001b[39m)\n\u001b[0;32m----> 2\u001b[0m copy_files(normal_, \u001b[39m'\u001b[39;49m\u001b[39mdataset/KolektorSDD2/train\u001b[39;49m\u001b[39m'\u001b[39;49m, \u001b[39m'\u001b[39;49m\u001b[39mdataset/KolektorSDD2/normal\u001b[39;49m\u001b[39m'\u001b[39;49m)\n",
      "Cell \u001b[0;32mIn[8], line 10\u001b[0m, in \u001b[0;36mcopy_files\u001b[0;34m(file_names, source_directory, destination_directory, extention)\u001b[0m\n\u001b[1;32m      7\u001b[0m source_path \u001b[39m=\u001b[39m os\u001b[39m.\u001b[39mpath\u001b[39m.\u001b[39mjoin(source_directory, filename)\n\u001b[1;32m      8\u001b[0m destination_path \u001b[39m=\u001b[39m os\u001b[39m.\u001b[39mpath\u001b[39m.\u001b[39mjoin(destination_directory, filename)\n\u001b[0;32m---> 10\u001b[0m shutil\u001b[39m.\u001b[39;49mcopyfile(source_path, destination_path)\n",
      "File \u001b[0;32m~/anaconda3/envs/tf-env/lib/python3.9/shutil.py:264\u001b[0m, in \u001b[0;36mcopyfile\u001b[0;34m(src, dst, follow_symlinks)\u001b[0m\n\u001b[1;32m    262\u001b[0m     os\u001b[39m.\u001b[39msymlink(os\u001b[39m.\u001b[39mreadlink(src), dst)\n\u001b[1;32m    263\u001b[0m \u001b[39melse\u001b[39;00m:\n\u001b[0;32m--> 264\u001b[0m     \u001b[39mwith\u001b[39;00m \u001b[39mopen\u001b[39;49m(src, \u001b[39m'\u001b[39;49m\u001b[39mrb\u001b[39;49m\u001b[39m'\u001b[39;49m) \u001b[39mas\u001b[39;00m fsrc:\n\u001b[1;32m    265\u001b[0m         \u001b[39mtry\u001b[39;00m:\n\u001b[1;32m    266\u001b[0m             \u001b[39mwith\u001b[39;00m \u001b[39mopen\u001b[39m(dst, \u001b[39m'\u001b[39m\u001b[39mwb\u001b[39m\u001b[39m'\u001b[39m) \u001b[39mas\u001b[39;00m fdst:\n\u001b[1;32m    267\u001b[0m                 \u001b[39m# macOS\u001b[39;00m\n",
      "\u001b[0;31mFileNotFoundError\u001b[0m: [Errno 2] No such file or directory: 'dataset/KolektorSDD2/train/20000.png'"
     ]
    }
   ],
   "source": [
    "copy_files(normal, 'dataset/KolektorSDD2/train', 'dataset/KolektorSDD2/normal')\n",
    "copy_files(normal_, 'dataset/KolektorSDD2/train', 'dataset/KolektorSDD2/normal')"
   ]
  }
 ],
 "metadata": {
  "kernelspec": {
   "display_name": "tf-env",
   "language": "python",
   "name": "python3"
  },
  "language_info": {
   "codemirror_mode": {
    "name": "ipython",
    "version": 3
   },
   "file_extension": ".py",
   "mimetype": "text/x-python",
   "name": "python",
   "nbconvert_exporter": "python",
   "pygments_lexer": "ipython3",
   "version": "3.9.16"
  },
  "orig_nbformat": 4
 },
 "nbformat": 4,
 "nbformat_minor": 2
}
